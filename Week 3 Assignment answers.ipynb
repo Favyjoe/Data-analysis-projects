{
 "cells": [
  {
   "cell_type": "markdown",
   "id": "aab81d03-04a6-42f5-b0b4-7c879ab8b04d",
   "metadata": {},
   "source": [
    "**Question 1**\n",
    "\n",
    "Take two variables height = 180 and weight = 75. Use compound assignment operators (+=, -=, *=, /=, //=, %=, **=) to modify these variables and print the results."
   ]
  },
  {
   "cell_type": "code",
   "execution_count": 4,
   "id": "3a15a24a-0795-47f2-9c4e-79c23d3fa508",
   "metadata": {},
   "outputs": [
    {
     "name": "stdout",
     "output_type": "stream",
     "text": [
      "After += : 185\n",
      "After -= : 65\n",
      "After *= : 370\n",
      "After /= : 13.0\n",
      "After //= : 123\n",
      "After %= : 1.0\n",
      "After **= : 15129\n"
     ]
    }
   ],
   "source": [
    "# Question 1 answers, q1_code\n",
    "\n",
    "height = 180\n",
    "weight = 75\n",
    "\n",
    "height += 5\n",
    "print(\"After += :\", height)\n",
    "\n",
    "weight -= 10\n",
    "print(\"After -= :\", weight)\n",
    "\n",
    "height *= 2\n",
    "print(\"After *= :\", height)\n",
    "\n",
    "weight /= 5\n",
    "print(\"After /= :\", weight)\n",
    "\n",
    "height //= 3\n",
    "print(\"After //= :\", height)\n",
    "\n",
    "weight %= 4\n",
    "print(\"After %= :\", weight)\n",
    "\n",
    "height **= 2\n",
    "print(\"After **= :\", height)\n"
   ]
  },
  {
   "cell_type": "markdown",
   "id": "ddc71627-3bab-4a90-8baa-f76b915b3e7c",
   "metadata": {},
   "source": [
    "**Question 2**\n",
    "  \n",
    "Write a Python program that takes the following student's exam score below and determines their grade based on the following criteria:\n",
    "\n",
    "student_a_score = 78\n",
    "student_b_score = 67\n",
    "student_c_score = 92\n",
    "If the score is between 90 and 100 (inclusive), print \"Grade: A\"\n",
    "If the score is between 80 and 89 (inclusive), print \"Grade: B\"\n",
    "If the score is between 70 and 79 (inclusive), print \"Grade: C\"\n",
    "If the score is between 60 and 69 (inclusive), print \"Grade: D\"\n",
    "If the score is below 60, print \"Grade: F\"\n",
    "Instructions:\n",
    "\n",
    "Use an if-elif-else statement to determine the grade based on the score.\n",
    "Make separate conditional statements for the three students\n",
    "Print the corresponding grade message.\n",
    "\n",
    "**Hint: Use comparison and logical operators in your \"conditional statement\"**"
   ]
  },
  {
   "cell_type": "code",
   "execution_count": 6,
   "id": "70ccf14e-2c71-449a-b261-f2d802940f02",
   "metadata": {},
   "outputs": [
    {
     "name": "stdout",
     "output_type": "stream",
     "text": [
      "The student's grade is: A\n"
     ]
    }
   ],
   "source": [
    "score = 85  # You can change this score to test, q2_code\n",
    "\n",
    "if 70 <= score <= 100:\n",
    "    grade = 'A'\n",
    "elif 60 <= score <= 69:\n",
    "    grade = 'B'\n",
    "elif 50 <= score <= 59:\n",
    "    grade = 'C'\n",
    "elif 45 <= score <= 49:\n",
    "    grade = 'D'\n",
    "elif 40 <= score <= 44:\n",
    "    grade = 'E'\n",
    "elif 0 <= score <= 39:\n",
    "    grade = 'F'\n",
    "else:\n",
    "    grade = 'Invalid score'\n",
    "\n",
    "print(f\"The student's grade is: {grade}\")\n"
   ]
  },
  {
   "cell_type": "markdown",
   "id": "158a6f27-97d2-47af-9d1c-32b75556e27d",
   "metadata": {},
   "source": [
    "**Question 3**\n",
    "  \n",
    "Write a Python program using a for loop that iterates from 5 to 30 and adds 2 to each number. Print the result for each loop."
   ]
  },
  {
   "cell_type": "code",
   "execution_count": 8,
   "id": "3a7f9af4-8b7b-4e7f-90a2-3c66f5478712",
   "metadata": {
    "collapsed": true,
    "jupyter": {
     "outputs_hidden": true
    }
   },
   "outputs": [
    {
     "name": "stdout",
     "output_type": "stream",
     "text": [
      "5 + 2 = 7\n",
      "6 + 2 = 8\n",
      "7 + 2 = 9\n",
      "8 + 2 = 10\n",
      "9 + 2 = 11\n",
      "10 + 2 = 12\n",
      "11 + 2 = 13\n",
      "12 + 2 = 14\n",
      "13 + 2 = 15\n",
      "14 + 2 = 16\n",
      "15 + 2 = 17\n",
      "16 + 2 = 18\n",
      "17 + 2 = 19\n",
      "18 + 2 = 20\n",
      "19 + 2 = 21\n",
      "20 + 2 = 22\n",
      "21 + 2 = 23\n",
      "22 + 2 = 24\n",
      "23 + 2 = 25\n",
      "24 + 2 = 26\n",
      "25 + 2 = 27\n",
      "26 + 2 = 28\n",
      "27 + 2 = 29\n",
      "28 + 2 = 30\n",
      "29 + 2 = 31\n",
      "30 + 2 = 32\n"
     ]
    }
   ],
   "source": [
    "# Question 3 answers, q3_code\n",
    "\n",
    "for i in range(5, 31):\n",
    "    result = i + 2\n",
    "    print(f\"{i} + 2 = {result}\")"
   ]
  },
  {
   "cell_type": "markdown",
   "id": "330bdfa1-d9b8-4f02-800e-8b7bb3245171",
   "metadata": {},
   "source": [
    "**Question 4**\n",
    "  \n",
    "Given a variable x = 5, write a Python program using a while loop that checks if x <= 55 and increment x by 5 if True. For each iteration print the value of x.\n"
   ]
  },
  {
   "cell_type": "code",
   "execution_count": 13,
   "id": "41a14fe5-3096-4a93-9efa-d9f8562cbe4c",
   "metadata": {},
   "outputs": [
    {
     "name": "stdout",
     "output_type": "stream",
     "text": [
      "5\n",
      "8\n",
      "11\n",
      "14\n",
      "17\n",
      "20\n"
     ]
    }
   ],
   "source": [
    "# Question 4 answers, q4_code\n",
    "x = 5\n",
    "while x <= 20:\n",
    "    print(x)\n",
    "    x += 3\n"
   ]
  },
  {
   "cell_type": "markdown",
   "id": "9d5a7f91-e54b-4c47-898b-e35a1912313d",
   "metadata": {},
   "source": [
    "\n",
    "**Question 5**\n",
    "  \n",
    "Check if the list below contains the following fruits (\"apple\", \"guava\", \"pawpaw\", \"avocado\") and if it does, print a statement indicating that the list contains the fruits. If it doesn't, add the fruit to the list and print the new fruit list and a statement that says the fruit has been added (hint: use the if-else statement).\n",
    "NOTE: Write a different if-else statement for each of the item in this list (\"apple\", \"guava\", \"pawpaw\", \"avocado\").\n",
    "\n",
    "fruit_list = [\"apple\", \"banana\", \"orange\", \"grape\", \"pineapple\", \"strawberry\", \"watermelon\", \"kiwi\", \"peach\", \"mango\", \"pear\", \"plum\", \"cherry\", \"blueberry\", \"raspberry\", \"lemon\", \"lime\", \"apricot\", \"coconut\", \"fig\"]\n",
    "\n",
    "\n",
    "\n"
   ]
  },
  {
   "cell_type": "code",
   "execution_count": 16,
   "id": "d85cd27a-6cf4-4fb4-be5a-398c05e67771",
   "metadata": {},
   "outputs": [
    {
     "name": "stdout",
     "output_type": "stream",
     "text": [
      "apple is in the list.\n",
      "guava is in the list.\n",
      "pawpaw is not in the list.\n"
     ]
    }
   ],
   "source": [
    "# Question 5 q5_code \n",
    "\n",
    "fruits = [\"banana\", \"apple\", \"orange\", \"guava\"]\n",
    "check_fruits = [\"apple\", \"guava\", \"pawpaw\"]\n",
    "\n",
    "for fruit in check_fruits:\n",
    "    if fruit in fruits:\n",
    "        print(f\"{fruit} is in the list.\")\n",
    "    else:\n",
    "        print(f\"{fruit} is not in the list.\")\n"
   ]
  },
  {
   "cell_type": "markdown",
   "id": "40dee96a-d2fb-4941-bd84-49bc83c9e792",
   "metadata": {},
   "source": [
    "**THANK YOU**"
   ]
  },
  {
   "cell_type": "code",
   "execution_count": null,
   "id": "a923dfdd-1c41-427a-94e8-e96cd9690225",
   "metadata": {},
   "outputs": [],
   "source": []
  }
 ],
 "metadata": {
  "kernelspec": {
   "display_name": "Python 3 (ipykernel)",
   "language": "python",
   "name": "python3"
  },
  "language_info": {
   "codemirror_mode": {
    "name": "ipython",
    "version": 3
   },
   "file_extension": ".py",
   "mimetype": "text/x-python",
   "name": "python",
   "nbconvert_exporter": "python",
   "pygments_lexer": "ipython3",
   "version": "3.12.7"
  }
 },
 "nbformat": 4,
 "nbformat_minor": 5
}
