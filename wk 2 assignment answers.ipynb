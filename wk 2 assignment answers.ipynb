{
 "cells": [
  {
   "cell_type": "markdown",
   "id": "a140dac2-66ed-4d1d-bae1-ece4b5241730",
   "metadata": {},
   "source": [
    "**1.Why is consistent indentation important in Python, and what error does Python throw if the indentation is inconsistent?**\n",
    "\n",
    "Indentation is crucial in Python because it defines the structure of code blocks (such as loops, conditionals, and function definitions). Unlike other languages that use braces {}, Python relies on indentation to determine code hierarchy. Inconsistent indentation leads to an IndentationError, which prevents the code from executing."
   ]
  },
  {
   "cell_type": "markdown",
   "id": "df23f7c8-3650-476d-b16a-94b11c1b7b4f",
   "metadata": {},
   "source": [
    "**Question 2**\n",
    "\n",
    "**What are the mutable and immutable data types in Python? Give two examples of each.**\n",
    "\n",
    "Mutable data types: These can be modified after creation. E.g List, Dictionary, and Set\n",
    "\n",
    "Example 1: list → my_list = [1, 2, 3]\n",
    "\n",
    "Example 2: dictionary → my_dict = {\"key\": \"value\"}\n",
    "\n",
    "Immutable data types: These cannot be changed after creation.\n",
    "\n",
    "Example 1: tuple → my_tuple = (1, 2, 3)\n",
    "\n",
    "Example 2: string → my_string = \"hello\""
   ]
  },
  {
   "cell_type": "markdown",
   "id": "9ab6652b-7626-4674-8c83-4d5fce34d659",
   "metadata": {},
   "source": [
    "**Question 3**\n",
    "\n",
    "**How do you convert a floating-point number to an integer, and what happens to the fractional part after conversion?**\n",
    "\n",
    "You can convert a floating-point number to an integer using the int() function. The fractional part is truncated (removed, not rounded)."
   ]
  },
  {
   "cell_type": "markdown",
   "id": "7ad74e3f-243e-42f5-8cfe-68c7493ec6d0",
   "metadata": {},
   "source": [
    "**EXAMPLE**"
   ]
  },
  {
   "cell_type": "code",
   "execution_count": 4,
   "id": "d3b49fe1-9d2c-4ca4-8ae6-33ea807fe128",
   "metadata": {},
   "outputs": [
    {
     "name": "stdout",
     "output_type": "stream",
     "text": [
      "7\n"
     ]
    }
   ],
   "source": [
    "num = 7.9\n",
    "integer_num = int(num)\n",
    "print(integer_num)\n"
   ]
  },
  {
   "cell_type": "markdown",
   "id": "eb2768cd-9e47-4690-8782-bfb9d5bec565",
   "metadata": {
    "scrolled": true
   },
   "source": [
    "**Question 4**\n",
    "  \n",
    "**What is the difference between a list and a tuple?**\n",
    "\n",
    "List (list): Mutable (can be changed), defined using square brackets [].\n",
    "\n",
    "Tuple (tuple): Immutable (cannot be changed), defined using parentheses ().\n"
   ]
  },
  {
   "cell_type": "code",
   "execution_count": 6,
   "id": "6d69abe9-27dd-4060-8c92-331ed216b158",
   "metadata": {},
   "outputs": [
    {
     "name": "stdout",
     "output_type": "stream",
     "text": [
      "[1, 2, 3, 4]\n"
     ]
    }
   ],
   "source": [
    "# example of changes to list\n",
    "\n",
    "my_list = [1, 2, 3]\n",
    "my_list.append(4)  \n",
    "print(my_list)\n",
    "\n"
   ]
  },
  {
   "cell_type": "code",
   "execution_count": 7,
   "id": "fc62a424-94e6-4ab3-9dde-3955f9f4b857",
   "metadata": {},
   "outputs": [
    {
     "ename": "TypeError",
     "evalue": "'tuple' object does not support item assignment",
     "output_type": "error",
     "traceback": [
      "\u001b[1;31m---------------------------------------------------------------------------\u001b[0m",
      "\u001b[1;31mTypeError\u001b[0m                                 Traceback (most recent call last)",
      "Cell \u001b[1;32mIn[7], line 4\u001b[0m\n\u001b[0;32m      1\u001b[0m \u001b[38;5;66;03m# Example of changes to tuple\u001b[39;00m\n\u001b[0;32m      3\u001b[0m my_tuple \u001b[38;5;241m=\u001b[39m (\u001b[38;5;241m1\u001b[39m, \u001b[38;5;241m2\u001b[39m, \u001b[38;5;241m3\u001b[39m)\n\u001b[1;32m----> 4\u001b[0m my_tuple[\u001b[38;5;241m0\u001b[39m] \u001b[38;5;241m=\u001b[39m \u001b[38;5;241m5\u001b[39m  \n\u001b[0;32m      5\u001b[0m \u001b[38;5;28mprint\u001b[39m(my_tuple)\n",
      "\u001b[1;31mTypeError\u001b[0m: 'tuple' object does not support item assignment"
     ]
    }
   ],
   "source": [
    "# Example of changes to tuple\n",
    "\n",
    "my_tuple = (1, 2, 3)\n",
    "my_tuple[0] = 5  \n",
    "print(my_tuple)\n",
    "\n"
   ]
  },
  {
   "cell_type": "markdown",
   "id": "1a12481e-32aa-428c-821b-1299e21d5e6b",
   "metadata": {},
   "source": [
    "**Question 5**\n",
    "  \n",
    "**Print out the datatype for the following variables:**\n",
    "\n",
    "a = 123\n",
    "\n",
    "b = [1, 2, 3]\n",
    "\n",
    "c = \"Python programming Language\"\n",
    "\n",
    "d = (1, 2, 3)\n",
    "\n",
    "e = {\"A\": 1, \"B\": 2, \"C\": 3}\n"
   ]
  },
  {
   "cell_type": "code",
   "execution_count": 9,
   "id": "7be4369b-b599-4615-a34a-39eb95ff8ee9",
   "metadata": {},
   "outputs": [
    {
     "name": "stdout",
     "output_type": "stream",
     "text": [
      "<class 'int'>\n",
      "<class 'list'>\n",
      "<class 'str'>\n",
      "<class 'tuple'>\n",
      "<class 'dict'>\n"
     ]
    }
   ],
   "source": [
    "# Answers to question 5\n",
    "\n",
    "a = 123\n",
    "b = [1, 2, 3]\n",
    "c = \"Python programming Language\"\n",
    "d = (1, 2, 3)\n",
    "e = {\"A\": 1, \"B\": 2, \"C\": 3}\n",
    "\n",
    "print(type(a))\n",
    "print(type(b))\n",
    "print(type(c))\n",
    "print(type(d))\n",
    "print(type(e))\n",
    "\n"
   ]
  },
  {
   "cell_type": "markdown",
   "id": "aa642c90-4bb4-49c2-9851-738e2ef96031",
   "metadata": {},
   "source": [
    "**Question 6**\n",
    "  \n",
    "**What is the difference between a comment and a docstring in Python, and how does Python treat each differently?**\n",
    "\n",
    "Comment(#): Used to add notes within the code. Python ignores comments during execution.\n",
    "\n",
    "**example of comment**\n",
    "\n",
    "print(\"Hello\")\n",
    "\n",
    "Docstring (\"\"\" \"\"\" or ''' '''): A multi-line string used to document functions, classes, or modules. It is accessible via __doc__."
   ]
  },
  {
   "cell_type": "markdown",
   "id": "2c3c04e7-74fd-46b7-8a14-ca76554ea0ec",
   "metadata": {},
   "source": [
    "**Question 7**\n",
    "\n",
    "**Do the following conversions and print the output:**\n",
    "\n",
    "Convert 45 to a float\n",
    "\n",
    "Convert 7.8 to an integer\n",
    "\n",
    "Convert 100 to a string\n",
    "\n",
    "Convert \"20\" to an integer\n",
    "\n",
    "Convert \"3.14\" to a float"
   ]
  },
  {
   "cell_type": "code",
   "execution_count": 11,
   "id": "b083a83c-ed5d-4f56-ac71-0b68261c482b",
   "metadata": {},
   "outputs": [
    {
     "name": "stdout",
     "output_type": "stream",
     "text": [
      "45.0\n",
      "7\n",
      "100\n",
      "20\n",
      "3.14\n"
     ]
    }
   ],
   "source": [
    "#answers to the above\n",
    "\n",
    "print(float(45))    \n",
    "print(int(7.8))     \n",
    "print(str(100))     \n",
    "print(int(\"20\"))    \n",
    "print(float(\"3.14\")) \n"
   ]
  },
  {
   "cell_type": "code",
   "execution_count": null,
   "id": "8ba229ac-3d7d-40f1-bb0c-4a570d7207ae",
   "metadata": {},
   "outputs": [],
   "source": []
  }
 ],
 "metadata": {
  "kernelspec": {
   "display_name": "Python 3 (ipykernel)",
   "language": "python",
   "name": "python3"
  },
  "language_info": {
   "codemirror_mode": {
    "name": "ipython",
    "version": 3
   },
   "file_extension": ".py",
   "mimetype": "text/x-python",
   "name": "python",
   "nbconvert_exporter": "python",
   "pygments_lexer": "ipython3",
   "version": "3.12.7"
  }
 },
 "nbformat": 4,
 "nbformat_minor": 5
}
