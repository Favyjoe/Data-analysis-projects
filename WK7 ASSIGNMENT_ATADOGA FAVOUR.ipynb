{
 "cells": [
  {
   "cell_type": "markdown",
   "id": "b3f5a3ae-cbb8-4b0a-a154-6ca32cfaa020",
   "metadata": {},
   "source": [
    "## **WEEK 7 ASSIGNMENT_ATADOGA FAVOUR_COHORT 3**\n"
   ]
  },
  {
   "cell_type": "code",
   "execution_count": 2,
   "id": "7112e074-8715-4e57-8efe-4f45c6bbb617",
   "metadata": {},
   "outputs": [],
   "source": [
    "import pandas as pd\n"
   ]
  },
  {
   "cell_type": "code",
   "execution_count": 4,
   "id": "75bc6111-796f-4e86-a9a6-4af33dfd524d",
   "metadata": {},
   "outputs": [
    {
     "data": {
      "text/html": [
       "<div>\n",
       "<style scoped>\n",
       "    .dataframe tbody tr th:only-of-type {\n",
       "        vertical-align: middle;\n",
       "    }\n",
       "\n",
       "    .dataframe tbody tr th {\n",
       "        vertical-align: top;\n",
       "    }\n",
       "\n",
       "    .dataframe thead th {\n",
       "        text-align: right;\n",
       "    }\n",
       "</style>\n",
       "<table border=\"1\" class=\"dataframe\">\n",
       "  <thead>\n",
       "    <tr style=\"text-align: right;\">\n",
       "      <th></th>\n",
       "      <th>num_passengers</th>\n",
       "      <th>sales_channel</th>\n",
       "      <th>trip_type</th>\n",
       "      <th>purchase_lead</th>\n",
       "      <th>length_of_stay</th>\n",
       "      <th>flight_hour</th>\n",
       "      <th>flight_day</th>\n",
       "      <th>route</th>\n",
       "      <th>booking_origin</th>\n",
       "      <th>wants_extra_baggage</th>\n",
       "      <th>wants_preferred_seat</th>\n",
       "      <th>wants_in_flight_meals</th>\n",
       "      <th>flight_duration</th>\n",
       "      <th>booking_complete</th>\n",
       "    </tr>\n",
       "  </thead>\n",
       "  <tbody>\n",
       "    <tr>\n",
       "      <th>0</th>\n",
       "      <td>2</td>\n",
       "      <td>Internet</td>\n",
       "      <td>RoundTrip</td>\n",
       "      <td>262.0</td>\n",
       "      <td>19.0</td>\n",
       "      <td>7.0</td>\n",
       "      <td>Sat</td>\n",
       "      <td>AKLDEL</td>\n",
       "      <td>New Zealand</td>\n",
       "      <td>1.0</td>\n",
       "      <td>0.0</td>\n",
       "      <td>0.0</td>\n",
       "      <td>5.52</td>\n",
       "      <td>0</td>\n",
       "    </tr>\n",
       "    <tr>\n",
       "      <th>1</th>\n",
       "      <td>1</td>\n",
       "      <td>Internet</td>\n",
       "      <td>RoundTrip</td>\n",
       "      <td>112.0</td>\n",
       "      <td>20.0</td>\n",
       "      <td>3.0</td>\n",
       "      <td>Sat</td>\n",
       "      <td>AKLDEL</td>\n",
       "      <td>New Zealand</td>\n",
       "      <td>0.0</td>\n",
       "      <td>0.0</td>\n",
       "      <td>0.0</td>\n",
       "      <td>5.52</td>\n",
       "      <td>0</td>\n",
       "    </tr>\n",
       "    <tr>\n",
       "      <th>2</th>\n",
       "      <td>2</td>\n",
       "      <td>Internet</td>\n",
       "      <td>RoundTrip</td>\n",
       "      <td>243.0</td>\n",
       "      <td>22.0</td>\n",
       "      <td>17.0</td>\n",
       "      <td>Wed</td>\n",
       "      <td>AKLDEL</td>\n",
       "      <td>India</td>\n",
       "      <td>1.0</td>\n",
       "      <td>1.0</td>\n",
       "      <td>0.0</td>\n",
       "      <td>5.52</td>\n",
       "      <td>0</td>\n",
       "    </tr>\n",
       "    <tr>\n",
       "      <th>3</th>\n",
       "      <td>1</td>\n",
       "      <td>Internet</td>\n",
       "      <td>RoundTrip</td>\n",
       "      <td>96.0</td>\n",
       "      <td>31.0</td>\n",
       "      <td>4.0</td>\n",
       "      <td>Sat</td>\n",
       "      <td>AKLDEL</td>\n",
       "      <td>New Zealand</td>\n",
       "      <td>0.0</td>\n",
       "      <td>0.0</td>\n",
       "      <td>1.0</td>\n",
       "      <td>5.52</td>\n",
       "      <td>0</td>\n",
       "    </tr>\n",
       "    <tr>\n",
       "      <th>4</th>\n",
       "      <td>2</td>\n",
       "      <td>Internet</td>\n",
       "      <td>RoundTrip</td>\n",
       "      <td>68.0</td>\n",
       "      <td>22.0</td>\n",
       "      <td>15.0</td>\n",
       "      <td>Wed</td>\n",
       "      <td>AKLDEL</td>\n",
       "      <td>India</td>\n",
       "      <td>1.0</td>\n",
       "      <td>0.0</td>\n",
       "      <td>1.0</td>\n",
       "      <td>5.52</td>\n",
       "      <td>0</td>\n",
       "    </tr>\n",
       "  </tbody>\n",
       "</table>\n",
       "</div>"
      ],
      "text/plain": [
       "   num_passengers sales_channel  trip_type  purchase_lead  length_of_stay  \\\n",
       "0               2      Internet  RoundTrip          262.0            19.0   \n",
       "1               1      Internet  RoundTrip          112.0            20.0   \n",
       "2               2      Internet  RoundTrip          243.0            22.0   \n",
       "3               1      Internet  RoundTrip           96.0            31.0   \n",
       "4               2      Internet  RoundTrip           68.0            22.0   \n",
       "\n",
       "   flight_hour flight_day   route booking_origin  wants_extra_baggage  \\\n",
       "0          7.0        Sat  AKLDEL    New Zealand                  1.0   \n",
       "1          3.0        Sat  AKLDEL    New Zealand                  0.0   \n",
       "2         17.0        Wed  AKLDEL          India                  1.0   \n",
       "3          4.0        Sat  AKLDEL    New Zealand                  0.0   \n",
       "4         15.0        Wed  AKLDEL          India                  1.0   \n",
       "\n",
       "   wants_preferred_seat  wants_in_flight_meals  flight_duration  \\\n",
       "0                   0.0                    0.0             5.52   \n",
       "1                   0.0                    0.0             5.52   \n",
       "2                   1.0                    0.0             5.52   \n",
       "3                   0.0                    1.0             5.52   \n",
       "4                   0.0                    1.0             5.52   \n",
       "\n",
       "   booking_complete  \n",
       "0                 0  \n",
       "1                 0  \n",
       "2                 0  \n",
       "3                 0  \n",
       "4                 0  "
      ]
     },
     "execution_count": 4,
     "metadata": {},
     "output_type": "execute_result"
    }
   ],
   "source": [
    "df = pd.read_csv('customer_bookings.csv')\n",
    "# Display the first 5 rows\n",
    "df.head()\n",
    "\n"
   ]
  },
  {
   "cell_type": "markdown",
   "id": "59092ce8-0c9c-455c-aa57-e4113a671670",
   "metadata": {},
   "source": [
    "# **Question 1: What is the shape of the dataframe and what does it mean?**\n",
    "\n"
   ]
  },
  {
   "cell_type": "code",
   "execution_count": 5,
   "id": "008d7482-8650-4795-9a7e-bf4d5602380b",
   "metadata": {},
   "outputs": [
    {
     "data": {
      "text/plain": [
       "(50017, 14)"
      ]
     },
     "execution_count": 5,
     "metadata": {},
     "output_type": "execute_result"
    }
   ],
   "source": [
    "## Answer to question 1\n",
    "df_shape = df.shape\n",
    "df_shape"
   ]
  },
  {
   "cell_type": "code",
   "execution_count": null,
   "id": "90752268-0f00-4cc6-9c7b-3c2730c0b05e",
   "metadata": {},
   "outputs": [],
   "source": [
    "The shape of the dataframe is (50017, 14).\n",
    "\n",
    "This means the dataset contains 50,017 rows (individual booking records) and 14 columns (features or variables related to each booking)."
   ]
  },
  {
   "cell_type": "markdown",
   "id": "c0ea2f4f-769d-4918-9100-35dd7165e4c5",
   "metadata": {},
   "source": [
    "# **Question 2: How many columns have null values and how many duplicate records are in the dataset?**\n",
    "\n"
   ]
  },
  {
   "cell_type": "code",
   "execution_count": 7,
   "id": "bfc4f9c3-0888-4865-9ab9-c002d09ea2e7",
   "metadata": {},
   "outputs": [
    {
     "name": "stdout",
     "output_type": "stream",
     "text": [
      "Number of columns with null values: 12\n",
      "Number of duplicate rows: 735\n"
     ]
    }
   ],
   "source": [
    "## Answers to question 3##\n",
    "\n",
    "# Check how many columns have null values\n",
    "null_columns = df.isnull().sum()\n",
    "num_columns_with_nulls = (null_columns > 0).sum()\n",
    "print(f\"Number of columns with null values: {num_columns_with_nulls}\")\n",
    "\n",
    "# Check how many duplicate rows exist\n",
    "num_duplicates = df.duplicated().sum()\n",
    "print(f\"Number of duplicate rows: {num_duplicates}\")\n"
   ]
  },
  {
   "cell_type": "markdown",
   "id": "14304ec8-2be2-4ab2-ab6e-298be090d4bf",
   "metadata": {},
   "source": [
    "## **Question 3: Remove duplicates, rows with null values and the `purchase lead` and `booking origin` columns, what is the new shape of the dataframe?**\n"
   ]
  },
  {
   "cell_type": "code",
   "execution_count": 8,
   "id": "8e37f38a-f2dc-48ee-b746-e67d15ef8825",
   "metadata": {},
   "outputs": [
    {
     "data": {
      "text/plain": [
       "(49207, 12)"
      ]
     },
     "execution_count": 8,
     "metadata": {},
     "output_type": "execute_result"
    }
   ],
   "source": [
    "##ANSWERS TO QUESTION 3##\n",
    "\n",
    "# Make a copy to avoid modifying the original\n",
    "\n",
    "df_cleaned = df.drop_duplicates()\n",
    "df_cleaned = df_cleaned.dropna()\n",
    "df_cleaned = df_cleaned.drop(columns=['purchase_lead', 'booking_origin'])\n",
    "\n",
    "# Get the new shape\n",
    "df_cleaned.shape\n"
   ]
  },
  {
   "cell_type": "code",
   "execution_count": null,
   "id": "26b75686-d117-497d-817e-e90a93b3ad10",
   "metadata": {},
   "outputs": [],
   "source": [
    "##This would mean:##\n",
    "\n",
    "The cleaned dataset now has 49,207 rows (after removing bad data)\n",
    "\n",
    "and 12 columns (since you dropped 2 columns from the original 14)."
   ]
  },
  {
   "cell_type": "markdown",
   "id": "d7d271ee-1297-4565-8d35-7f9f6a252c78",
   "metadata": {},
   "source": [
    "## **Question 4: What are the different datatypes we have in the dataset?**"
   ]
  },
  {
   "cell_type": "code",
   "execution_count": 9,
   "id": "6555a95f-1c43-4932-b749-fdee90d1cec9",
   "metadata": {},
   "outputs": [
    {
     "data": {
      "text/plain": [
       "num_passengers             int64\n",
       "sales_channel             object\n",
       "trip_type                 object\n",
       "purchase_lead            float64\n",
       "length_of_stay           float64\n",
       "flight_hour              float64\n",
       "flight_day                object\n",
       "route                     object\n",
       "booking_origin            object\n",
       "wants_extra_baggage      float64\n",
       "wants_preferred_seat     float64\n",
       "wants_in_flight_meals    float64\n",
       "flight_duration          float64\n",
       "booking_complete           int64\n",
       "dtype: object"
      ]
     },
     "execution_count": 9,
     "metadata": {},
     "output_type": "execute_result"
    }
   ],
   "source": [
    "#ANSWERS TO QUESTION 4##\n",
    "\n",
    "## finding the data types shape##\n",
    "\n",
    "df.dtypes\n"
   ]
  },
  {
   "cell_type": "markdown",
   "id": "989c4045-0046-4af0-92ae-d53147e57c8c",
   "metadata": {},
   "source": [
    "## **Question 5:  What are the different `trip types` available to customers and which one is mostly used?**"
   ]
  },
  {
   "cell_type": "code",
   "execution_count": 10,
   "id": "170bb6ed-a44f-4a57-a53f-350edcc96c54",
   "metadata": {},
   "outputs": [
    {
     "name": "stdout",
     "output_type": "stream",
     "text": [
      "Trip Types: ['RoundTrip' 'CircleTrip' 'OneWay' nan]\n",
      "Most common trip type:\n",
      " trip_type\n",
      "RoundTrip     49509\n",
      "OneWay          387\n",
      "CircleTrip      116\n",
      "Name: count, dtype: int64\n"
     ]
    }
   ],
   "source": [
    "##ANSWERS TO QUESTION 5##\n",
    "\n",
    "## Unique trip types##\n",
    "\n",
    "print(\"Trip Types:\", df['trip_type'].unique())\n",
    "\n",
    "# Most frequent trip type\n",
    "print(\"Most common trip type:\\n\", df['trip_type'].value_counts())\n"
   ]
  },
  {
   "cell_type": "markdown",
   "id": "f7dc6d3d-b916-4d77-a2b1-1fef414d6c1c",
   "metadata": {},
   "source": [
    "## **Question 6: What is the most used `sales channel` for booking by customers?**"
   ]
  },
  {
   "cell_type": "code",
   "execution_count": 11,
   "id": "cfa4c1d4-5eb9-47b7-95ae-dbef145975c4",
   "metadata": {},
   "outputs": [
    {
     "data": {
      "text/plain": [
       "sales_channel\n",
       "Internet    44386\n",
       "Mobile       5621\n",
       "Name: count, dtype: int64"
      ]
     },
     "execution_count": 11,
     "metadata": {},
     "output_type": "execute_result"
    }
   ],
   "source": [
    "##ANSWERS TO QUESTION 6##\n",
    "\n",
    "df['sales_channel'].value_counts()\n",
    "\n",
    "##the most used sales channel for booking can be seen below##"
   ]
  },
  {
   "cell_type": "code",
   "execution_count": 16,
   "id": "f1f76cc7-d31f-486c-9469-4283d72e81c2",
   "metadata": {},
   "outputs": [],
   "source": [
    "## the most used sales channel for booking by customer shows internet (44,386)"
   ]
  },
  {
   "cell_type": "markdown",
   "id": "2776aacb-3954-46ce-9bb0-ee1306f70198",
   "metadata": {},
   "source": [
    "## **Question 7:  Which day had the highest `total number of flights`?**##"
   ]
  },
  {
   "cell_type": "code",
   "execution_count": 12,
   "id": "1dcb6b71-e32e-44f6-9c36-6476b631a7ee",
   "metadata": {},
   "outputs": [
    {
     "data": {
      "text/plain": [
       "flight_day\n",
       "Mon    8105\n",
       "Tue    7676\n",
       "Wed    7674\n",
       "Thu    7426\n",
       "Fri    6764\n",
       "Sun    6556\n",
       "Sat    5812\n",
       "Name: count, dtype: int64"
      ]
     },
     "execution_count": 12,
     "metadata": {},
     "output_type": "execute_result"
    }
   ],
   "source": [
    "##ANSWERS TO QUESTION 7 BELOW##\n",
    "\n",
    "df['flight_day'].value_counts()\n"
   ]
  },
  {
   "cell_type": "code",
   "execution_count": 12,
   "id": "7682d6ec-c4d7-4b3a-8460-9cd9e4e9603e",
   "metadata": {},
   "outputs": [
    {
     "data": {
      "text/plain": [
       "flight_day\n",
       "Mon    8105\n",
       "Tue    7676\n",
       "Wed    7674\n",
       "Thu    7426\n",
       "Fri    6764\n",
       "Sun    6556\n",
       "Sat    5812\n",
       "Name: count, dtype: int64"
      ]
     },
     "execution_count": 12,
     "metadata": {},
     "output_type": "execute_result"
    }
   ],
   "source": [
    "## MONDAY HAS THE DAY WITH HIGHETS TOTAL NUMBER OF FLIGHTS (8105)"
   ]
  },
  {
   "cell_type": "markdown",
   "id": "4def4817-26db-4673-8578-db8506aecce1",
   "metadata": {},
   "source": [
    "## **Question 8: How many customers wanted a `preferred seat` and in `flight meals`?**##"
   ]
  },
  {
   "cell_type": "code",
   "execution_count": 13,
   "id": "cd9a5f76-f021-4e96-bbee-46836f988efd",
   "metadata": {},
   "outputs": [
    {
     "name": "stdout",
     "output_type": "stream",
     "text": [
      "Customers who wanted a preferred seat: 14853.0\n",
      "Customers who wanted in-flight meals: 21365.0\n"
     ]
    }
   ],
   "source": [
    "##SEE ANSWERS BELOW##\n",
    "\n",
    "preferred_seat_count = df['wants_preferred_seat'].sum()\n",
    "in_flight_meals_count = df['wants_in_flight_meals'].sum()\n",
    "\n",
    "print(f\"Customers who wanted a preferred seat: {preferred_seat_count}\")\n",
    "print(f\"Customers who wanted in-flight meals: {in_flight_meals_count}\")\n"
   ]
  },
  {
   "cell_type": "markdown",
   "id": "3bfe30f1-3c30-4f89-8e5c-66fd7a7f9692",
   "metadata": {},
   "source": [
    "## **Question 9: Which of the `trip type` had the highest average `flight duration`?**##"
   ]
  },
  {
   "cell_type": "code",
   "execution_count": 15,
   "id": "38ce6251-e5e6-4751-9950-8514e00d8bf6",
   "metadata": {},
   "outputs": [
    {
     "data": {
      "text/plain": [
       "trip_type\n",
       "OneWay        7.966770\n",
       "CircleTrip    7.764828\n",
       "RoundTrip     7.271532\n",
       "Name: flight_duration, dtype: float64"
      ]
     },
     "execution_count": 15,
     "metadata": {},
     "output_type": "execute_result"
    }
   ],
   "source": [
    "##see answers below##\n",
    "\n",
    "df.groupby('trip_type')['flight_duration'].mean().sort_values(ascending=False)\n"
   ]
  },
  {
   "cell_type": "code",
   "execution_count": null,
   "id": "2655b4f7-437c-4af4-b70f-e4d4a10aff20",
   "metadata": {},
   "outputs": [],
   "source": [
    "## OneWay trips have the highest average flight duration among all trip types in your dataset.##"
   ]
  },
  {
   "cell_type": "markdown",
   "id": "1a3e643f-b9ae-4ac5-ad39-93560d2ac748",
   "metadata": {},
   "source": [
    "## **Question 10: Which day of the week had the highest average `flight duration`?**"
   ]
  },
  {
   "cell_type": "code",
   "execution_count": 17,
   "id": "c8cbd51f-33ee-49c9-8f79-9c5a2fd1d52d",
   "metadata": {},
   "outputs": [
    {
     "data": {
      "text/plain": [
       "flight_day\n",
       "Sun    7.374796\n",
       "Sat    7.302901\n",
       "Mon    7.264899\n",
       "Wed    7.260923\n",
       "Tue    7.258524\n",
       "Thu    7.250244\n",
       "Fri    7.249553\n",
       "Name: flight_duration, dtype: float64"
      ]
     },
     "execution_count": 17,
     "metadata": {},
     "output_type": "execute_result"
    }
   ],
   "source": [
    "##see answers to question 10 below##\n",
    "\n",
    "df.groupby('flight_day')['flight_duration'].mean().sort_values(ascending=False)\n"
   ]
  },
  {
   "cell_type": "code",
   "execution_count": null,
   "id": "838b1bba-975d-49ae-8682-a2a093ab4a99",
   "metadata": {},
   "outputs": [],
   "source": [
    "## sunday was the day with the highest average flight duration##"
   ]
  },
  {
   "cell_type": "markdown",
   "id": "0e20db7c-7b65-4ae9-bd40-2a170b1a6861",
   "metadata": {},
   "source": [
    "## **THANK YOU** ##"
   ]
  },
  {
   "cell_type": "code",
   "execution_count": null,
   "id": "39ba2573-c0aa-4b9b-8a39-cbae832cfb7f",
   "metadata": {},
   "outputs": [],
   "source": []
  }
 ],
 "metadata": {
  "kernelspec": {
   "display_name": "Python 3 (ipykernel)",
   "language": "python",
   "name": "python3"
  },
  "language_info": {
   "codemirror_mode": {
    "name": "ipython",
    "version": 3
   },
   "file_extension": ".py",
   "mimetype": "text/x-python",
   "name": "python",
   "nbconvert_exporter": "python",
   "pygments_lexer": "ipython3",
   "version": "3.12.7"
  }
 },
 "nbformat": 4,
 "nbformat_minor": 5
}
