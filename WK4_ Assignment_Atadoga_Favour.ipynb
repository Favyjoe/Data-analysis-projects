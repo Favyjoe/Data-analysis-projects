{
 "cells": [
  {
   "cell_type": "markdown",
   "id": "0a907855-b262-4d73-98e4-6db7d7bfd573",
   "metadata": {},
   "source": [
    "**Assignment-Week 4_ATADOGA FAVOUR**"
   ]
  },
  {
   "cell_type": "markdown",
   "id": "6b217ac6-a90a-4ac1-bb5a-e13d0e92a29f",
   "metadata": {},
   "source": [
    "### **Question 1**\n",
    "Demonstrate how to create a 1-dimensional, 2-dimensional, and 3-dimensional numpy arrays using `np.array`. Use any suitable data for the arrays and display each. The 1 dimensional, 2 dimensional and 3 dimensional arrays you created should have shapes of ```(7,), (4, 4), and (3, 2, 3)``` respectively. Print out the shapes of each array after you have created them."
   ]
  },
  {
   "cell_type": "code",
   "execution_count": 2,
   "id": "67d154df-eac1-4f3a-8817-ac9eca18539f",
   "metadata": {},
   "outputs": [
    {
     "name": "stdout",
     "output_type": "stream",
     "text": [
      "1D Array:\n",
      " [1 2 3 4 5 6 7]\n",
      "Shape: (7,)\n",
      "\n",
      "2D Array:\n",
      " [[ 1  2  3  4]\n",
      " [ 5  6  7  8]\n",
      " [ 9 10 11 12]\n",
      " [13 14 15 16]]\n",
      "Shape: (4, 4)\n",
      "\n",
      "3D Array:\n",
      " [[[ 1  2  3]\n",
      "  [ 4  5  6]]\n",
      "\n",
      " [[ 7  8  9]\n",
      "  [10 11 12]]\n",
      "\n",
      " [[13 14 15]\n",
      "  [16 17 18]]]\n",
      "Shape: (3, 2, 3)\n"
     ]
    }
   ],
   "source": [
    "# **Answer to question 1**\n",
    "import numpy as np\n",
    "\n",
    "# 1-dimensional array with shape (7,)\n",
    "arr_1d = np.array([1, 2, 3, 4, 5, 6, 7])\n",
    "print(\"1D Array:\\n\", arr_1d)\n",
    "print(\"Shape:\", arr_1d.shape)\n",
    "\n",
    "# 2-dimensional array with shape (4, 4)\n",
    "arr_2d = np.array([[1, 2, 3, 4],\n",
    "                   [5, 6, 7, 8],\n",
    "                   [9, 10, 11, 12],\n",
    "                   [13, 14, 15, 16]])\n",
    "print(\"\\n2D Array:\\n\", arr_2d)\n",
    "print(\"Shape:\", arr_2d.shape)\n",
    "\n",
    "# 3-dimensional array with shape (3, 2, 3)\n",
    "arr_3d = np.array([[[1, 2, 3], [4, 5, 6]],\n",
    "                   [[7, 8, 9], [10, 11, 12]],\n",
    "                   [[13, 14, 15], [16, 17, 18]]])\n",
    "print(\"\\n3D Array:\\n\", arr_3d)\n",
    "print(\"Shape:\", arr_3d.shape)\n"
   ]
  },
  {
   "cell_type": "markdown",
   "id": "ca430adc-18b9-4c8b-a1d0-62ec8b8ad1da",
   "metadata": {},
   "source": [
    "### **Question 2**\n",
    "\n",
    "**2a.** Write a Python code to create two arrays using `np.zeros` and `np.ones` with a shape of (4, 5). Print both arrays.\\\n",
    "**2b.** Using the `np.arange` function, create an array from `10 - 36` \\\n",
    "**2c.** Generate a numpy array with `25` linearly spaced values ranging from `20 to 50` using `np.linspace`. Print the array."
   ]
  },
  {
   "cell_type": "code",
   "execution_count": 3,
   "id": "e3819401-5a1b-4d9c-9c3e-1df3b0b69e09",
   "metadata": {},
   "outputs": [
    {
     "name": "stdout",
     "output_type": "stream",
     "text": [
      "Zeros Array:\n",
      " [[0. 0. 0. 0. 0.]\n",
      " [0. 0. 0. 0. 0.]\n",
      " [0. 0. 0. 0. 0.]\n",
      " [0. 0. 0. 0. 0.]]\n",
      "\n",
      "Ones Array:\n",
      " [[1. 1. 1. 1. 1.]\n",
      " [1. 1. 1. 1. 1.]\n",
      " [1. 1. 1. 1. 1.]\n",
      " [1. 1. 1. 1. 1.]]\n",
      "\n",
      "Array from 10 to 36:\n",
      " [10 11 12 13 14 15 16 17 18 19 20 21 22 23 24 25 26 27 28 29 30 31 32 33\n",
      " 34 35 36]\n",
      "\n",
      "Linearly spaced array:\n",
      " [20.   21.25 22.5  23.75 25.   26.25 27.5  28.75 30.   31.25 32.5  33.75\n",
      " 35.   36.25 37.5  38.75 40.   41.25 42.5  43.75 45.   46.25 47.5  48.75\n",
      " 50.  ]\n"
     ]
    }
   ],
   "source": [
    "# Answers to question 2\n",
    "\n",
    "# 2a. Creating arrays with np.zeros and np.ones\n",
    "zeros_array = np.zeros((4, 5))\n",
    "ones_array = np.ones((4, 5))\n",
    "print(\"Zeros Array:\\n\", zeros_array)\n",
    "print(\"\\nOnes Array:\\n\", ones_array)\n",
    "\n",
    "# 2b. Create an array using np.arange from 10 to 36\n",
    "arange_array = np.arange(10, 37)\n",
    "print(\"\\nArray from 10 to 36:\\n\", arange_array)\n",
    "\n",
    "# 2c. Generate 25 linearly spaced values from 20 to 50\n",
    "linspace_array = np.linspace(20, 50, 25)\n",
    "print(\"\\nLinearly spaced array:\\n\", linspace_array)\n"
   ]
  },
  {
   "cell_type": "markdown",
   "id": "a3f11fec-cd80-45b5-bb10-8d74f7fa6818",
   "metadata": {},
   "source": [
    "### **Question 3**\n",
    "\n",
    "Consider the numpy array below. Write a Python code to extract the sub-array containing the third to fifth elements.\n",
    "```python\n",
    "arr = np.array([23, 54, 32, 33, 56, 78, 77, 45, 33])\n",
    "```"
   ]
  },
  {
   "cell_type": "code",
   "execution_count": 4,
   "id": "b00e9676-c11a-41ad-bcc0-2df7a66c978f",
   "metadata": {},
   "outputs": [
    {
     "name": "stdout",
     "output_type": "stream",
     "text": [
      "Sub-array (3rd to 5th elements): [32 33 56]\n"
     ]
    }
   ],
   "source": [
    "# ANSWER TO QUESTION 3\n",
    "\n",
    "arr = np.array([23, 54, 32, 33, 56, 78, 77, 45, 33])\n",
    "\n",
    "# Extracting third to fifth elements (index 2 to 4)\n",
    "sub_array = arr[2:5]\n",
    "print(\"Sub-array (3rd to 5th elements):\", sub_array)\n"
   ]
  },
  {
   "cell_type": "markdown",
   "id": "680245cd-4b53-4bb1-b7fd-0399741c8bcf",
   "metadata": {},
   "source": [
    "### **Question 4**\n",
    "\n",
    "Given the 2-dimensional numpy array below, demonstrate how to slice and obtain the third row and first and second column.\n",
    "\n",
    "```python\n",
    "arr_2d = np.array([[1, 2, 3], \n",
    "                  [4, 5, 6], \n",
    "                  [7, 8, 9],\n",
    "                  [4, 5, 3]])\n",
    "```"
   ]
  },
  {
   "cell_type": "code",
   "execution_count": 5,
   "id": "2d5efb11-ff55-4211-bb2e-be82a9156671",
   "metadata": {},
   "outputs": [
    {
     "name": "stdout",
     "output_type": "stream",
     "text": [
      "Sliced Array (3rd row, 1st & 2nd columns): [7 8]\n"
     ]
    }
   ],
   "source": [
    "# ANSWERS TO QUESTION 4\n",
    "\n",
    "arr_2d = np.array([[1, 2, 3], \n",
    "                   [4, 5, 6], \n",
    "                   [7, 8, 9],\n",
    "                   [4, 5, 3]])\n",
    "\n",
    "# Extract third row and first & second columns\n",
    "slice_result = arr_2d[2, 0:2]\n",
    "print(\"Sliced Array (3rd row, 1st & 2nd columns):\", slice_result)\n"
   ]
  },
  {
   "cell_type": "markdown",
   "id": "9211343b-c1df-4e15-a95b-f311ee71b20f",
   "metadata": {},
   "source": [
    "### **Question 5**\n",
    "\n",
    "Given the 3d array below, answer the following questions:\\\n",
    "**5a.** What is the shape of the array and how many layers or blocks does the array have?\\\n",
    "**5b.** Slice out the second and last rows from the third block using array slicing.\n",
    "```python\n",
    "array_3d = np.array([\n",
    "    [[1, 2, 3], \n",
    "     [4, 5, 6], \n",
    "     [7, 8, 9], \n",
    "     [2, 3, 3]],\n",
    "    \n",
    "    [[13, 14, 15], \n",
    "     [16, 17, 18], \n",
    "     [19, 20, 21], \n",
    "     [22, 23, 24]],\n",
    "    \n",
    "    [[25, 26, 27], \n",
    "     [28, 29, 30], \n",
    "     [31, 32, 33], \n",
    "     [34, 35, 36]]])\n",
    "```"
   ]
  },
  {
   "cell_type": "code",
   "execution_count": 6,
   "id": "b371a9df-77a6-4101-ae38-0c0c27b0261c",
   "metadata": {},
   "outputs": [
    {
     "name": "stdout",
     "output_type": "stream",
     "text": [
      "Shape of the array: (3, 4, 3)\n",
      "Number of blocks (layers): 3\n",
      "\n",
      "Sliced rows (2nd and last from 3rd block):\n",
      " [[28 29 30]\n",
      " [34 35 36]]\n"
     ]
    }
   ],
   "source": [
    "# ANSWERS TO QUESTION 5\n",
    "\n",
    "import numpy as np\n",
    "\n",
    "array_3d = np.array([\n",
    "    [[1, 2, 3], \n",
    "     [4, 5, 6], \n",
    "     [7, 8, 9], \n",
    "     [2, 3, 3]],\n",
    "    \n",
    "    [[13, 14, 15], \n",
    "     [16, 17, 18], \n",
    "     [19, 20, 21], \n",
    "     [22, 23, 24]],\n",
    "    \n",
    "    [[25, 26, 27], \n",
    "     [28, 29, 30], \n",
    "     [31, 32, 33], \n",
    "     [34, 35, 36]]])\n",
    "\n",
    "# 5a. What is the shape of the array and how many layers or blocks does it have?\n",
    "shape = array_3d.shape\n",
    "num_blocks = shape[0]\n",
    "print(\"Shape of the array:\", shape)\n",
    "print(\"Number of blocks (layers):\", num_blocks)\n",
    "\n",
    "# 5b. Slice out the second and last rows from the third block\n",
    "# Third block is at index 2; second row index is 1, last row index is -1\n",
    "sliced_rows = array_3d[2, [1, -1], :]\n",
    "print(\"\\nSliced rows (2nd and last from 3rd block):\\n\", sliced_rows)\n"
   ]
  },
  {
   "cell_type": "code",
   "execution_count": null,
   "id": "b62fb466-53ae-4baf-8231-ed65787f792b",
   "metadata": {},
   "outputs": [],
   "source": []
  }
 ],
 "metadata": {
  "kernelspec": {
   "display_name": "Python 3 (ipykernel)",
   "language": "python",
   "name": "python3"
  },
  "language_info": {
   "codemirror_mode": {
    "name": "ipython",
    "version": 3
   },
   "file_extension": ".py",
   "mimetype": "text/x-python",
   "name": "python",
   "nbconvert_exporter": "python",
   "pygments_lexer": "ipython3",
   "version": "3.12.7"
  }
 },
 "nbformat": 4,
 "nbformat_minor": 5
}
