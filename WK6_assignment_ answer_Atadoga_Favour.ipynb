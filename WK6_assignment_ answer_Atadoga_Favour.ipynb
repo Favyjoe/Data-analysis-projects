{
 "cells": [
  {
   "cell_type": "markdown",
   "id": "4d309c6d-ee9a-479d-871c-21cfbde20a2d",
   "metadata": {},
   "source": [
    "## **Question 1**\n",
    "Create a Pandas Series from a list of temperatures: 22, 25, 30, 28, 35, 32, 33 and label the indexes as Monday, Tuesday, Wednesday, Thursday, Friday, Saturday, Sunday and specify the data type to be ```float32```.\\\n",
    "Display the series."
   ]
  },
  {
   "cell_type": "code",
   "execution_count": 2,
   "id": "3fba644b-faf7-4ffb-bb96-96a52732df5b",
   "metadata": {},
   "outputs": [],
   "source": [
    "## importing pandas and numpy for our answer##\n",
    "\n",
    "import pandas as pd\n",
    "import numpy as np\n"
   ]
  },
  {
   "cell_type": "code",
   "execution_count": 11,
   "id": "43343013-ecf6-4806-b603-b144ce6db922",
   "metadata": {},
   "outputs": [
    {
     "data": {
      "text/plain": [
       "Monday       22.0\n",
       "Tuesday      25.0\n",
       "Wednesday    30.0\n",
       "Thursday     28.0\n",
       "Friday       35.0\n",
       "Saturday     32.0\n",
       "Sunday       33.0\n",
       "dtype: float32"
      ]
     },
     "execution_count": 11,
     "metadata": {},
     "output_type": "execute_result"
    }
   ],
   "source": [
    "temperatures = pd.Series(\n",
    "    [22, 25, 30, 28, 35, 32, 33],\n",
    "    index=[\"Monday\", \"Tuesday\", \"Wednesday\", \"Thursday\", \"Friday\", \"Saturday\", \"Sunday\"],\n",
    "    dtype=\"float32\"\n",
    ")\n",
    "\n",
    "temperatures\n"
   ]
  },
  {
   "cell_type": "markdown",
   "id": "9abb10cf-0262-4806-b143-65c535ddc21e",
   "metadata": {},
   "source": [
    "## **Question 2**\n",
    "Construct a Pandas Series with  20 numbers from 100 to 150 and create an index from 1- 20 using the ```np.arange``` function. Specify the data type to be of ```float64```."
   ]
  },
  {
   "cell_type": "code",
   "execution_count": 15,
   "id": "4055236e-51e9-4e65-b4cb-45db9f3537d9",
   "metadata": {},
   "outputs": [
    {
     "data": {
      "text/plain": [
       "1     100.000000\n",
       "2     102.631579\n",
       "3     105.263158\n",
       "4     107.894737\n",
       "5     110.526316\n",
       "6     113.157895\n",
       "7     115.789474\n",
       "8     118.421053\n",
       "9     121.052632\n",
       "10    123.684211\n",
       "11    126.315789\n",
       "12    128.947368\n",
       "13    131.578947\n",
       "14    134.210526\n",
       "15    136.842105\n",
       "16    139.473684\n",
       "17    142.105263\n",
       "18    144.736842\n",
       "19    147.368421\n",
       "20    150.000000\n",
       "dtype: float64"
      ]
     },
     "execution_count": 15,
     "metadata": {},
     "output_type": "execute_result"
    }
   ],
   "source": [
    "## creating pandas series ##\n",
    "\n",
    "series_100_to_150 = pd.Series(\n",
    "    np.linspace(100, 150, 20),\n",
    "    index=np.arange(1, 21),\n",
    "    dtype=\"float64\"\n",
    ")\n",
    "\n",
    "series_100_to_150\n"
   ]
  },
  {
   "cell_type": "markdown",
   "id": "7ef41187-65b5-4057-98b1-d96b57f3169e",
   "metadata": {},
   "source": [
    "## **Question 3**\n",
    "Create a pandas DataFrame with 10 rows with the following columns:\n",
    "- Name (random names with your name being the first)\n",
    "- State\n",
    "- Age\n",
    "- Weight (in kg)\n",
    "- Gender\n",
    "\n",
    "Display the DataFrame"
   ]
  },
  {
   "cell_type": "code",
   "execution_count": 19,
   "id": "3f8ffca7-5fa1-4992-8f61-80c960c85e16",
   "metadata": {},
   "outputs": [
    {
     "name": "stdout",
     "output_type": "stream",
     "text": [
      "      Name          State  Age  Weight  Gender\n",
      "0   Favour          Lagos   24      65  Female\n",
      "1    Alice          Abuja   22      55  Female\n",
      "2      Bob         Kaduna   30      80    Male\n",
      "3  Charles           Kano   28      78    Male\n",
      "4    Diana          Enugu   26      60  Female\n",
      "5    Ethan            Jos   32      90    Male\n",
      "6    Fiona         Ibadan   29      70  Female\n",
      "7   George          Benin   25      68    Male\n",
      "8   Hannah  Port Harcourt   27      59  Female\n",
      "9     Ivan         Sokoto   31      75    Male\n"
     ]
    }
   ],
   "source": [
    "## answers to question 3##\n",
    "import pandas as pd\n",
    "\n",
    "data = {\n",
    "    \"Name\": [\"Favour\", \"Alice\", \"Bob\", \"Charles\", \"Diana\", \"Ethan\", \"Fiona\", \"George\", \"Hannah\", \"Ivan\"],\n",
    "    \"State\": [\"Lagos\", \"Abuja\", \"Kaduna\", \"Kano\", \"Enugu\", \"Jos\", \"Ibadan\", \"Benin\", \"Port Harcourt\", \"Sokoto\"],\n",
    "    \"Age\": [24, 22, 30, 28, 26, 32, 29, 25, 27, 31], \n",
    "    \"Weight\": [65, 55, 80, 78, 60, 90, 70, 68, 59, 75],\n",
    "    \"Gender\": [\"Female\", \"Female\", \"Male\", \"Male\", \"Female\", \"Male\", \"Female\", \"Male\", \"Female\", \"Male\"]\n",
    "}\n",
    "\n",
    "df = pd.DataFrame(data)\n",
    "\n",
    "# Display the DataFrame\n",
    "print(df)\n"
   ]
  },
  {
   "cell_type": "markdown",
   "id": "f93367d9-ec21-4cca-89fa-42d440b50515",
   "metadata": {},
   "source": [
    "## **Question 4**\n",
    "For the above DataFrame, write code to print its shape, columns, and the data type of each column."
   ]
  },
  {
   "cell_type": "code",
   "execution_count": 24,
   "id": "00bc7d0d-149f-4380-aabd-da0d17828873",
   "metadata": {},
   "outputs": [
    {
     "name": "stdout",
     "output_type": "stream",
     "text": [
      "(10, 5) ['Name', 'State', 'Age', 'Weight', 'Gender'] Name      object\n",
      "State     object\n",
      "Age        int64\n",
      "Weight     int64\n",
      "Gender    object\n",
      "dtype: object\n"
     ]
    }
   ],
   "source": [
    "##answers to question 4##\n",
    "\n",
    "df_shape = df.shape\n",
    "df_columns = df.columns.tolist()\n",
    "df_dtypes = df.dtypes\n",
    "\n",
    "print (df_shape, \n",
    "      df_columns,\n",
    "      df_dtypes)"
   ]
  },
  {
   "cell_type": "markdown",
   "id": "b0229d02-7be4-4ce7-8180-7406a851ba62",
   "metadata": {},
   "source": [
    "## **Question 5**\n",
    "\n",
    "Add a new column `occupation` to the DataFrame you created."
   ]
  },
  {
   "cell_type": "code",
   "execution_count": 28,
   "id": "f33c5f2e-60da-4c4d-a233-9ee66c3ffe29",
   "metadata": {},
   "outputs": [
    {
     "name": "stdout",
     "output_type": "stream",
     "text": [
      "      Name          State  Age  Weight  Gender Occupation\n",
      "0   Favour          Lagos   24      65  Female    Student\n",
      "1    Alice          Abuja   22      55  Female   Engineer\n",
      "2      Bob         Kaduna   30      80    Male     Doctor\n",
      "3  Charles           Kano   28      78    Male     Lawyer\n",
      "4    Diana          Enugu   26      60  Female      Nurse\n",
      "5    Ethan            Jos   32      90    Male    Teacher\n",
      "6    Fiona         Ibadan   29      70  Female     Artist\n",
      "7   George          Benin   25      68    Male       Chef\n",
      "8   Hannah  Port Harcourt   27      59  Female     Banker\n",
      "9     Ivan         Sokoto   31      75    Male      Pilot\n"
     ]
    }
   ],
   "source": [
    "## answer to question 5##\n",
    "\n",
    "df[\"Occupation\"] = [\"Student\", \"Engineer\", \"Doctor\", \"Lawyer\", \"Nurse\", \"Teacher\", \"Artist\", \"Chef\", \"Banker\", \"Pilot\"]\n",
    "\n",
    "# Display the updated DataFrame\n",
    "print(df)\n",
    "    "
   ]
  },
  {
   "cell_type": "markdown",
   "id": "92d21471-18aa-4246-8967-c810405653a6",
   "metadata": {},
   "source": [
    "## **Question 6**\n",
    "\n",
    "Create two Series, `A` and `B`, containing the numbers 1 - 5 and 6 - 10 respectively. Compute the sum, difference ```(B-A)```, and product of `A` and `B`."
   ]
  },
  {
   "cell_type": "code",
   "execution_count": 10,
   "id": "10653510-d2cc-4e29-980b-e16f68f1b215",
   "metadata": {},
   "outputs": [
    {
     "name": "stdout",
     "output_type": "stream",
     "text": [
      "Series A:\n",
      "1    1\n",
      "2    2\n",
      "3    3\n",
      "4    4\n",
      "5    5\n",
      "dtype: int64\n",
      "\n",
      "Series B:\n",
      "1     6\n",
      "2     7\n",
      "3     8\n",
      "4     9\n",
      "5    10\n",
      "dtype: int64\n",
      "\n",
      "Sum (A + B):\n",
      "1     7\n",
      "2     9\n",
      "3    11\n",
      "4    13\n",
      "5    15\n",
      "dtype: int64\n",
      "\n",
      "Difference (B - A):\n",
      "1    5\n",
      "2    5\n",
      "3    5\n",
      "4    5\n",
      "5    5\n",
      "dtype: int64\n",
      "\n",
      "Product (A * B):\n",
      "1     6\n",
      "2    14\n",
      "3    24\n",
      "4    36\n",
      "5    50\n",
      "dtype: int64\n"
     ]
    }
   ],
   "source": [
    "##answer to question 6##\n",
    "\n",
    "\n",
    "import pandas as pd\n",
    "\n",
    "# Create Series A with values from 1 to 5\n",
    "\n",
    "A = pd.Series([1, 2, 3, 4, 5], index=[1, 2, 3, 4, 5])\n",
    "\n",
    "# Create Series B with values from 6 to 10 and index from 1 to 5\n",
    "B = pd.Series([6, 7, 8, 9, 10], index=[1, 2, 3, 4, 5])\n",
    "\n",
    "# Compute the sum of A and B\n",
    "sum_result = A + B\n",
    "\n",
    "# Compute the difference (B - A)\n",
    "difference = B - A\n",
    "\n",
    "# Compute the product of A and B\n",
    "product = A * B\n",
    "\n",
    "# Display the results\n",
    "print(\"Series A:\")\n",
    "print(A)\n",
    "print(\"\\nSeries B:\")\n",
    "print(B)\n",
    "print(\"\\nSum (A + B):\")\n",
    "print(sum_result)\n",
    "print(\"\\nDifference (B - A):\")\n",
    "print(difference)\n",
    "print(\"\\nProduct (A * B):\")\n",
    "print(product)\n",
    "\n"
   ]
  },
  {
   "cell_type": "markdown",
   "id": "9e3d6182-67fe-4c20-9344-264ebe5e6d2e",
   "metadata": {},
   "source": [
    "## **Answers to question 7**\n",
    "\n",
    "**1. apply()**\n",
    "\n",
    "Applies a function along the elements of the Series. This method is useful for element-wise transformations or applying custom functions.\n",
    "\n",
    "**Python:** series.apply(lambda x: x * 2)\n",
    "\n",
    "**2.map()**\n",
    "\n",
    "Maps the elements of the Series according to a given mapping (such as a dictionary, function, or Series). It's similar to apply() but works more specifically for element-wise transformations with mappings.\n",
    "\n",
    "**python:** series.map({1: 'A', 2: 'B', 3: 'C'})\n",
    "\n",
    "**3. replace()**\n",
    "\n",
    "Replaces specified values in the Series with new values. It’s useful for data cleaning and transformation.\n",
    "\n",
    "**python:** series.replace(1, 100)\n",
    "\n",
    "**4. isnull()**\n",
    "\n",
    "Returns a boolean Series indicating whether each element is NaN (missing) or not. It is useful for detecting missing data in the Series.\n",
    "\n",
    "**python:** series.isnull()\n",
    "\n",
    "**5. value_counts()**\n",
    "\n",
    "Returns a Series containing the count of unique values, sorted in descending order. This is useful for understanding the distribution of categorical data.\n",
    "\n",
    "\n",
    "**python:** series.value_counts()\n",
    "\n",
    "**6. unique()**\n",
    "\n",
    "Returns an array of unique values in the Series. This is useful when you want to know the distinct elements within the data.\n",
    "\n",
    "**python:** series.unique()\n",
    "\n",
    "**7. describe()**\n",
    "\n",
    "Provides a summary of statistics for a numerical Series, including count, mean, standard deviation, min, max, and quantiles.\n",
    "\n",
    "**python:** series.describe()\n",
    "\n",
    "**8.shift()**\n",
    "\n",
    "Shifts the values in the Series by a specified number of positions. This is commonly used to shift data for time series analysis.\n",
    "\n",
    "**python** series.shift(1)\n",
    "\n",
    "**9. sort_index()**\n",
    "\n",
    "Sorts the Series by its index. This can be useful when the index is not in the desired order.\n",
    "\n",
    "\n",
    "**python** series.sort_index()\n",
    "\n",
    "**10. tail(n)**\n",
    "\n",
    "Similar to head(), this returns the last n elements of the Series.\n",
    "\n",
    "\n",
    "**python** series.tail(3)  # Returns the last 3 elements"
   ]
  },
  {
   "cell_type": "markdown",
   "id": "58a67d9b-b451-489c-a042-9dbb085d6c51",
   "metadata": {},
   "source": [
    "## **Question 8**\n",
    "\n",
    "Lists 10 attributes/methods of a DataFrame and explain what they do"
   ]
  },
  {
   "cell_type": "markdown",
   "id": "2b580042-7869-4185-aeb1-e776e3b90585",
   "metadata": {},
   "source": [
    "## answers to question 8\n",
    "\n",
    "**shape** – Returns a tuple representing the dimensions of the DataFrame (rows, columns).\n",
    "\n",
    "**columns** – Displays the column labels of the DataFrame.\n",
    "\n",
    "**info()** – Summarizes the DataFrame including data types, non-null counts, and memory usage.\n",
    "\n",
    "**head(n)** – Returns the first n rows of the DataFrame; default is 5.\n",
    "\n",
    "**tail(n)** – Returns the last n rows; also defaults to 5 if n is not specified.\n",
    "\n",
    "**describe()** – Generates descriptive statistics (mean, std, min, etc.) for numeric columns.\n",
    "\n",
    "**drop()** – Removes specified rows or columns from the DataFrame.\n",
    "\n",
    "**groupby()** – Groups data based on specified column(s), allowing for aggregation.\n",
    "\n",
    "**isnull()** – Returns a DataFrame of the same shape with True for missing values (NaN) and False otherwise.\n",
    "\n",
    "**merge()** – Combines two DataFrames using database-style join operations (inner, left, right, outer)."
   ]
  },
  {
   "cell_type": "markdown",
   "id": "62291555-ea86-4999-9bba-a4cc7a08e1be",
   "metadata": {},
   "source": [
    "## **Question 9**\n",
    "\n",
    "Highlight 3 differences between a `Series` and `DataFrame`"
   ]
  },
  {
   "cell_type": "code",
   "execution_count": 30,
   "id": "5d84e34b-356f-455e-81c4-3836214eea86",
   "metadata": {},
   "outputs": [
    {
     "data": {
      "text/html": [
       "<div>\n",
       "<style scoped>\n",
       "    .dataframe tbody tr th:only-of-type {\n",
       "        vertical-align: middle;\n",
       "    }\n",
       "\n",
       "    .dataframe tbody tr th {\n",
       "        vertical-align: top;\n",
       "    }\n",
       "\n",
       "    .dataframe thead th {\n",
       "        text-align: right;\n",
       "    }\n",
       "</style>\n",
       "<table border=\"1\" class=\"dataframe\">\n",
       "  <thead>\n",
       "    <tr style=\"text-align: right;\">\n",
       "      <th></th>\n",
       "      <th>Aspect</th>\n",
       "      <th>Series</th>\n",
       "      <th>DataFrame</th>\n",
       "    </tr>\n",
       "  </thead>\n",
       "  <tbody>\n",
       "    <tr>\n",
       "      <th>1</th>\n",
       "      <td>Structure</td>\n",
       "      <td>One-dimensional</td>\n",
       "      <td>Two-dimensional</td>\n",
       "    </tr>\n",
       "    <tr>\n",
       "      <th>2</th>\n",
       "      <td>Number of Columns</td>\n",
       "      <td>Only one column</td>\n",
       "      <td>Multiple columns</td>\n",
       "    </tr>\n",
       "    <tr>\n",
       "      <th>3</th>\n",
       "      <td>Data Representation</td>\n",
       "      <td>Like a single column (e.g., in Excel)</td>\n",
       "      <td>Like a full table or spreadsheet</td>\n",
       "    </tr>\n",
       "  </tbody>\n",
       "</table>\n",
       "</div>"
      ],
      "text/plain": [
       "                Aspect                                 Series  \\\n",
       "1            Structure                        One-dimensional   \n",
       "2    Number of Columns                        Only one column   \n",
       "3  Data Representation  Like a single column (e.g., in Excel)   \n",
       "\n",
       "                          DataFrame  \n",
       "1                   Two-dimensional  \n",
       "2                  Multiple columns  \n",
       "3  Like a full table or spreadsheet  "
      ]
     },
     "execution_count": 30,
     "metadata": {},
     "output_type": "execute_result"
    }
   ],
   "source": [
    "## answers to question 9##\n",
    "\n",
    "\n",
    "data = {\n",
    "    \"Aspect\": [\"Structure\", \"Number of Columns\", \"Data Representation\"],\n",
    "    \"Series\": [\n",
    "        \"One-dimensional\",\n",
    "        \"Only one column\",\n",
    "        \"Like a single column (e.g., in Excel)\"\n",
    "    ],\n",
    "    \"DataFrame\": [\n",
    "        \"Two-dimensional\",\n",
    "        \"Multiple columns\",\n",
    "        \"Like a full table or spreadsheet\"\n",
    "    ]\n",
    "}\n",
    "\n",
    "# Create the DataFrame and set the index to start from 1\n",
    "comparison_table = pd.DataFrame(data, index=[1, 2, 3])\n",
    "comparison_table\n",
    "\n"
   ]
  },
  {
   "cell_type": "markdown",
   "id": "45c8544d-fac1-426b-8499-02cb92c55195",
   "metadata": {},
   "source": [
    "## **Question 10**\n",
    "List two key points you learnt in week 6 classes"
   ]
  },
  {
   "cell_type": "markdown",
   "id": "5214386a-5f24-490b-abb5-95c1a80a28ea",
   "metadata": {},
   "source": [
    "**##answers to question 10##**\n",
    "\n",
    "1. i learnt how to import csv files and and the methods.\n",
    "2. i learnt that python dictionary datatype is actually a pandas dataframe, restructuring the key value, pairs into columns and rows with with each item value aligning with their corresponding keys arranged in columns"
   ]
  },
  {
   "cell_type": "code",
   "execution_count": null,
   "id": "35831a79-323f-4ed5-9ca8-0277fb37540b",
   "metadata": {},
   "outputs": [],
   "source": []
  }
 ],
 "metadata": {
  "kernelspec": {
   "display_name": "Python 3 (ipykernel)",
   "language": "python",
   "name": "python3"
  },
  "language_info": {
   "codemirror_mode": {
    "name": "ipython",
    "version": 3
   },
   "file_extension": ".py",
   "mimetype": "text/x-python",
   "name": "python",
   "nbconvert_exporter": "python",
   "pygments_lexer": "ipython3",
   "version": "3.12.7"
  }
 },
 "nbformat": 4,
 "nbformat_minor": 5
}
